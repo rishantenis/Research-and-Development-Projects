{
  "nbformat": 4,
  "nbformat_minor": 0,
  "metadata": {
    "colab": {
      "private_outputs": true,
      "provenance": []
    },
    "kernelspec": {
      "name": "python3",
      "display_name": "Python 3"
    },
    "language_info": {
      "name": "python"
    }
  },
  "cells": [
    {
      "cell_type": "code",
      "execution_count": null,
      "metadata": {
        "id": "YrR3Nx2XwAu5"
      },
      "outputs": [],
      "source": [
        "import pandas as pd\n",
        "from sklearn.model_selection import train_test_split\n",
        "from sklearn.ensemble import RandomForestClassifier\n",
        "from sklearn.metrics import accuracy_score, classification_report\n",
        "from sklearn.preprocessing import StandardScaler"
      ]
    },
    {
      "cell_type": "code",
      "source": [
        "datasets = pd.read_csv(\"/content/parkinsons.data\")"
      ],
      "metadata": {
        "id": "66o1TWfhwVVf"
      },
      "execution_count": null,
      "outputs": []
    },
    {
      "cell_type": "code",
      "source": [
        "datasets.head()"
      ],
      "metadata": {
        "id": "v1xvT5M2wa7H"
      },
      "execution_count": null,
      "outputs": []
    },
    {
      "cell_type": "code",
      "source": [
        "datasets.tail()"
      ],
      "metadata": {
        "id": "kSJiY0_cwgCe"
      },
      "execution_count": null,
      "outputs": []
    },
    {
      "cell_type": "code",
      "source": [
        "len(datasets.columns)"
      ],
      "metadata": {
        "id": "0eY6mmHAw0Qe"
      },
      "execution_count": null,
      "outputs": []
    },
    {
      "cell_type": "code",
      "source": [
        "datasets['status']"
      ],
      "metadata": {
        "id": "eWFpmzICw7UF"
      },
      "execution_count": null,
      "outputs": []
    },
    {
      "cell_type": "code",
      "source": [
        "datasets['status'].value_counts()"
      ],
      "metadata": {
        "id": "eUidCDpAxCsj"
      },
      "execution_count": null,
      "outputs": []
    },
    {
      "cell_type": "code",
      "source": [
        "datasets.describe()"
      ],
      "metadata": {
        "id": "wboQtcR_xI6y"
      },
      "execution_count": null,
      "outputs": []
    },
    {
      "cell_type": "code",
      "source": [
        "iqr = 182.769 - 117.572\n",
        "iqr"
      ],
      "metadata": {
        "id": "0T6QU-hCxZNQ"
      },
      "execution_count": null,
      "outputs": []
    },
    {
      "cell_type": "code",
      "source": [
        "x = datasets.drop(['name','status'], axis = 1)\n",
        "y = datasets['status']"
      ],
      "metadata": {
        "id": "ifASv_pZx1Cy"
      },
      "execution_count": null,
      "outputs": []
    },
    {
      "cell_type": "code",
      "source": [
        "x_train, x_test, y_train, y_test = train_test_split(x, y, test_size = 0.2, random_state=42)"
      ],
      "metadata": {
        "id": "GA0pefFJzDSo"
      },
      "execution_count": null,
      "outputs": []
    },
    {
      "cell_type": "code",
      "source": [
        "model = RandomForestClassifier(random_state = 42)"
      ],
      "metadata": {
        "id": "AHaRExxfzeRd"
      },
      "execution_count": null,
      "outputs": []
    },
    {
      "cell_type": "code",
      "source": [
        "model.fit(x_train, y_train)"
      ],
      "metadata": {
        "id": "-3QLXRYWzlj2"
      },
      "execution_count": null,
      "outputs": []
    },
    {
      "cell_type": "code",
      "source": [
        "y_prediction = model.predict(x_test)\n",
        "print(f\"Y Prediction Value is : {y_prediction}\")"
      ],
      "metadata": {
        "id": "a1PliZXVzpgx"
      },
      "execution_count": null,
      "outputs": []
    },
    {
      "cell_type": "code",
      "source": [
        "accuracy = accuracy_score(y_test, y_prediction)\n",
        "print(f\"Model Accuracy: {accuracy}\")"
      ],
      "metadata": {
        "id": "GIeRjnLpz4nb"
      },
      "execution_count": null,
      "outputs": []
    },
    {
      "cell_type": "code",
      "source": [
        "classificationReport = classification_report(y_test, y_prediction)\n",
        "print(f\"Model Classification Report is :\\n{classificationReport}\")"
      ],
      "metadata": {
        "id": "gSMDB5UE0GK_"
      },
      "execution_count": null,
      "outputs": []
    },
    {
      "cell_type": "code",
      "source": [],
      "metadata": {
        "id": "xwYtwyRW0YQf"
      },
      "execution_count": null,
      "outputs": []
    }
  ]
}